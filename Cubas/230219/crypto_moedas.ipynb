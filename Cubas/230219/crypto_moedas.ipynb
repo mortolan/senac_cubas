{
 "cells": [
  {
   "cell_type": "code",
   "execution_count": 52,
   "metadata": {},
   "outputs": [],
   "source": [
    "from pymongo import MongoClient\n",
    "from bson.objectid import ObjectId\n",
    "import bson\n",
    "import pprint\n",
    "from bson.son import SON\n",
    "import requests\n",
    "import pprint\n",
    "from bs4 import BeautifulSoup\n",
    "from selenium import webdriver\n",
    "\n",
    "client = MongoClient('10.52.51.28', 27017)\n",
    "url = 'https://www.infomoney.com.br/cryptos/cotacoes'\n",
    "driver = webdriver.Firefox(executable_path = '/home/marcio/apps/Geckodriver/geckodriver')\n",
    "driver.get(url)\n",
    "#page = requests.get(url)\n",
    "\n",
    "soup = BeautifulSoup(driver.page_source, 'html.parser')\n",
    "table = soup.find('table', attrs={'class':'display border-t-brown-3'})\n",
    "\n",
    "data = []\n",
    "table_body = table.find('tbody')\n",
    "rows = table_body.find_all('tr')\n",
    "for row in rows:\n",
    "    cols = row.find_all('td')\n",
    "    cols = [ele.text.strip() for ele in cols]\n",
    "    data.append([ele for ele in cols if ele])\n",
    "    valores=[ele for ele in cols if ele] \n",
    "    \n",
    "    post = {\n",
    "    \"ID\" : valores[0],\n",
    "    \"NOME\" : valores[1],\n",
    "    \"VM\" : valores[2],\n",
    "    \"PRECO_RS\" : valores[3],\n",
    "    \"PRECO_BTC\" : valores[4],\n",
    "    \"VT\" : valores[5],\n",
    "    \"VARIACAO\" : valores[6]\n",
    "    \n",
    "}\n",
    "    post_id = client.cubas.marcio.insert_one(post).inserted_id\n",
    "\n",
    "driver.close()\n",
    "client.close()\n",
    "\n"
   ]
  },
  {
   "cell_type": "code",
   "execution_count": null,
   "metadata": {},
   "outputs": [],
   "source": []
  }
 ],
 "metadata": {
  "kernelspec": {
   "display_name": "Python 3.6",
   "language": "python",
   "name": "python_3.6"
  },
  "language_info": {
   "codemirror_mode": {
    "name": "ipython",
    "version": 3
   },
   "file_extension": ".py",
   "mimetype": "text/x-python",
   "name": "python",
   "nbconvert_exporter": "python",
   "pygments_lexer": "ipython3",
   "version": "3.6.5"
  }
 },
 "nbformat": 4,
 "nbformat_minor": 2
}
